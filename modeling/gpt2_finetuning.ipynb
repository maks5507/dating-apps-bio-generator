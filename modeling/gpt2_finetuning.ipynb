{
 "cells": [
  {
   "cell_type": "markdown",
   "id": "70d3240e",
   "metadata": {
    "id": "70d3240e"
   },
   "source": [
    "### General imports"
   ]
  },
  {
   "cell_type": "code",
   "execution_count": null,
   "id": "6065c67c",
   "metadata": {
    "colab": {
     "base_uri": "https://localhost:8080/"
    },
    "executionInfo": {
     "elapsed": 12173,
     "status": "ok",
     "timestamp": 1639173406420,
     "user": {
      "displayName": "Anya Trivedi",
      "photoUrl": "https://lh3.googleusercontent.com/a-/AOh14GgGcsfUOad-g04foCwxEdRBEzpXflIcbLNL6Nq2Fw=s64",
      "userId": "03273720747699660418"
     },
     "user_tz": 300
    },
    "id": "6065c67c",
    "outputId": "f87d7d29-69a6-493e-d005-f991f5a4a2d3"
   },
   "outputs": [],
   "source": [
    "!pip install matplotlib\n",
    "!pip install tqdm\n",
    "!pip install sklearn"
   ]
  },
  {
   "cell_type": "code",
   "execution_count": 1,
   "id": "9166debd",
   "metadata": {
    "executionInfo": {
     "elapsed": 157,
     "status": "ok",
     "timestamp": 1639174646461,
     "user": {
      "displayName": "Anya Trivedi",
      "photoUrl": "https://lh3.googleusercontent.com/a-/AOh14GgGcsfUOad-g04foCwxEdRBEzpXflIcbLNL6Nq2Fw=s64",
      "userId": "03273720747699660418"
     },
     "user_tz": 300
    },
    "id": "9166debd"
   },
   "outputs": [],
   "source": [
    "import torch \n",
    "import torchvision\n",
    "import torch.nn as nn \n",
    "import torch.nn.init as init\n",
    "from IPython.display import Image \n",
    "from torchvision import transforms\n",
    "import matplotlib.pyplot as plt\n",
    "import random\n",
    "from torch.utils.data import DataLoader\n",
    "from tqdm.auto import tqdm\n",
    "\n",
    "import os\n",
    "\n",
    "import torch.optim as optim\n",
    "import time\n",
    "import torch.nn.functional as F\n",
    "\n",
    "import numpy as np\n",
    "from sklearn.linear_model import LinearRegression\n",
    "from scipy.optimize import curve_fit\n",
    "\n",
    "import pickle\n",
    "\n",
    "device = torch.device(\"cuda\" if torch.cuda.is_available() else \"cpu\")\n",
    "seed = 12345\n",
    "random.seed(seed)\n",
    "torch.manual_seed(seed)\n",
    "\n",
    "%matplotlib inline"
   ]
  },
  {
   "cell_type": "markdown",
   "id": "e3b8941b",
   "metadata": {
    "id": "e3b8941b"
   },
   "source": [
    "### Model"
   ]
  },
  {
   "cell_type": "code",
   "execution_count": null,
   "id": "44b5cbc1",
   "metadata": {
    "colab": {
     "base_uri": "https://localhost:8080/"
    },
    "executionInfo": {
     "elapsed": 7377,
     "status": "ok",
     "timestamp": 1639173440869,
     "user": {
      "displayName": "Anya Trivedi",
      "photoUrl": "https://lh3.googleusercontent.com/a-/AOh14GgGcsfUOad-g04foCwxEdRBEzpXflIcbLNL6Nq2Fw=s64",
      "userId": "03273720747699660418"
     },
     "user_tz": 300
    },
    "id": "44b5cbc1",
    "outputId": "c3d36021-9b94-4a52-f07b-8a6ab6ffe699"
   },
   "outputs": [],
   "source": [
    "!pip install transformers"
   ]
  },
  {
   "cell_type": "code",
   "execution_count": 2,
   "id": "4e574be1",
   "metadata": {
    "executionInfo": {
     "elapsed": 126,
     "status": "ok",
     "timestamp": 1639174655597,
     "user": {
      "displayName": "Anya Trivedi",
      "photoUrl": "https://lh3.googleusercontent.com/a-/AOh14GgGcsfUOad-g04foCwxEdRBEzpXflIcbLNL6Nq2Fw=s64",
      "userId": "03273720747699660418"
     },
     "user_tz": 300
    },
    "id": "4e574be1"
   },
   "outputs": [],
   "source": [
    "from transformers import GPT2TokenizerFast, GPT2LMHeadModel\n",
    "import torch\n"
   ]
  },
  {
   "cell_type": "markdown",
   "id": "b031eb97",
   "metadata": {
    "id": "b031eb97"
   },
   "source": [
    "### Loading the data"
   ]
  },
  {
   "cell_type": "code",
   "execution_count": 3,
   "id": "0ab8b198",
   "metadata": {
    "executionInfo": {
     "elapsed": 114,
     "status": "ok",
     "timestamp": 1639174657775,
     "user": {
      "displayName": "Anya Trivedi",
      "photoUrl": "https://lh3.googleusercontent.com/a-/AOh14GgGcsfUOad-g04foCwxEdRBEzpXflIcbLNL6Nq2Fw=s64",
      "userId": "03273720747699660418"
     },
     "user_tz": 300
    },
    "id": "0ab8b198"
   },
   "outputs": [],
   "source": [
    "train = pickle.load(open('okcupid_train.pkl', 'rb'))\n",
    "val = pickle.load(open('okcupid_val.pkl', 'rb'))\n",
    "test = pickle.load(open('okcupid_test.pkl', 'rb'))"
   ]
  },
  {
   "cell_type": "markdown",
   "id": "c5b99ba5",
   "metadata": {
    "id": "c5b99ba5"
   },
   "source": [
    "### Dataset to handle the data"
   ]
  },
  {
   "cell_type": "code",
   "execution_count": 4,
   "id": "f058c9e9",
   "metadata": {
    "colab": {
     "base_uri": "https://localhost:8080/"
    },
    "executionInfo": {
     "elapsed": 10,
     "status": "ok",
     "timestamp": 1639170537260,
     "user": {
      "displayName": "Maksim Eremeev",
      "photoUrl": "https://lh3.googleusercontent.com/a-/AOh14GgYuEXmCYSv65GORtoH84qFcqgF1iGHVL35pqm6Rw=s64",
      "userId": "07481873577488827204"
     },
     "user_tz": 300
    },
    "id": "f058c9e9",
    "outputId": "81a2424c-baab-47e2-bd27-d3639269ac21"
   },
   "outputs": [
    {
     "data": {
      "text/plain": [
       "'age : 35 ,  sex : m ,  education : working on space camp ,  job : hospitality / travel ,  income : 80000 ,  body_type : average  => \"i am a chef: this is what that means. 1. i am a workaholic. 2. i love to cook regardless of whether i am at work. 3. i love to drink and eat foods that are probably really bad for me. 4. i love being around people that resemble line 1-3. i love the outdoors and i am an avid skier. if its snowing i will be in tahoe at the very least. i am a very confident and friendly. i\\'m not interested in acting or being a typical guy. i have no time or patience for rediculous acts of territorial pissing. overall i am a very likable easygoing individual. i am very adventurous and always looking forward to doing new things and hopefully sharing it with the right person.\"'"
      ]
     },
     "execution_count": 4,
     "metadata": {},
     "output_type": "execute_result"
    }
   ],
   "source": [
    "train[0]"
   ]
  },
  {
   "cell_type": "code",
   "execution_count": 4,
   "id": "5425003d",
   "metadata": {
    "executionInfo": {
     "elapsed": 98,
     "status": "ok",
     "timestamp": 1639173465446,
     "user": {
      "displayName": "Anya Trivedi",
      "photoUrl": "https://lh3.googleusercontent.com/a-/AOh14GgGcsfUOad-g04foCwxEdRBEzpXflIcbLNL6Nq2Fw=s64",
      "userId": "03273720747699660418"
     },
     "user_tz": 300
    },
    "id": "5425003d"
   },
   "outputs": [],
   "source": [
    "class GPTDataset(torch.utils.data.Dataset):\n",
    "    def __init__(self, dataset, batch_size):\n",
    "        #tokenizers usually do the tokenization and numericalization in one step, use encode to get word->index and  \n",
    "        # decode to get index->word\n",
    "        self.tokenizer = GPT2TokenizerFast.from_pretrained('distilgpt2')\n",
    "        self.tokenizer.add_special_tokens({'pad_token': '[PAD]'})\n",
    "        self.dataset = dataset\n",
    "        self.batch_size = batch_size\n",
    "        \n",
    "        self.batches = []\n",
    "        \n",
    "        for i in range(int(len(self.dataset) / batch_size)):\n",
    "            batch = self.dataset[i * self.batch_size : (i + 1) * self.batch_size]\n",
    "            self.batches += [self.tokenizer(batch, padding=True, truncation=True, return_tensors=\"pt\")]\n",
    "            \n",
    "    def __getitem__(self, index):\n",
    "        return self.batches[index]\n",
    "\n",
    "    def __len__(self):\n",
    "        return len(self.batches)"
   ]
  },
  {
   "cell_type": "markdown",
   "id": "90093658",
   "metadata": {
    "id": "90093658"
   },
   "source": [
    "### Preparing the data for training. BATCH SIZE is specified here"
   ]
  },
  {
   "cell_type": "code",
   "execution_count": 5,
   "id": "145cd9ef",
   "metadata": {
    "executionInfo": {
     "elapsed": 113,
     "status": "ok",
     "timestamp": 1639174664538,
     "user": {
      "displayName": "Anya Trivedi",
      "photoUrl": "https://lh3.googleusercontent.com/a-/AOh14GgGcsfUOad-g04foCwxEdRBEzpXflIcbLNL6Nq2Fw=s64",
      "userId": "03273720747699660418"
     },
     "user_tz": 300
    },
    "id": "145cd9ef"
   },
   "outputs": [],
   "source": [
    "batch_size = 3"
   ]
  },
  {
   "cell_type": "code",
   "execution_count": 6,
   "id": "12f49101",
   "metadata": {
    "executionInfo": {
     "elapsed": 10090,
     "status": "ok",
     "timestamp": 1639174675117,
     "user": {
      "displayName": "Anya Trivedi",
      "photoUrl": "https://lh3.googleusercontent.com/a-/AOh14GgGcsfUOad-g04foCwxEdRBEzpXflIcbLNL6Nq2Fw=s64",
      "userId": "03273720747699660418"
     },
     "user_tz": 300
    },
    "id": "12f49101",
    "scrolled": true
   },
   "outputs": [],
   "source": [
    "train_dataset = GPTDataset(train, batch_size)\n",
    "val_dataset = GPTDataset(val, batch_size)\n",
    "test_dataset = GPTDataset(test, batch_size)"
   ]
  },
  {
   "cell_type": "code",
   "execution_count": 10,
   "id": "49010fb5-7760-4719-b3e5-06328d6fcb8e",
   "metadata": {},
   "outputs": [],
   "source": [
    "# train_dataset[0]"
   ]
  },
  {
   "cell_type": "markdown",
   "id": "455bdccf",
   "metadata": {
    "id": "455bdccf"
   },
   "source": [
    "### Training loop"
   ]
  },
  {
   "cell_type": "code",
   "execution_count": 12,
   "id": "c118312a",
   "metadata": {
    "executionInfo": {
     "elapsed": 3,
     "status": "ok",
     "timestamp": 1639174675117,
     "user": {
      "displayName": "Anya Trivedi",
      "photoUrl": "https://lh3.googleusercontent.com/a-/AOh14GgGcsfUOad-g04foCwxEdRBEzpXflIcbLNL6Nq2Fw=s64",
      "userId": "03273720747699660418"
     },
     "user_tz": 300
    },
    "id": "c118312a"
   },
   "outputs": [],
   "source": [
    "def train_loop(model, optimizer, scheduler, train_dataset, device, epoch=5, \n",
    "               val_dataset=None, save_model_at_epoch = False):   \n",
    "    output_dir = '/model/'\n",
    "    output_prefix = 'step'\n",
    "    train_losses = []\n",
    "    val_losses = []\n",
    "    \n",
    "    for t in tqdm(range(epoch)):\n",
    "        batches = 0 \n",
    "        total = 0\n",
    "        model.train()       \n",
    "        total_loss = 0\n",
    "        for batch_idx, x in tqdm(list(enumerate(train_dataset))):\n",
    "            batches += 1\n",
    "            x = x.to(device)\n",
    "            \n",
    "            output = model(**x, labels=x['input_ids'])\n",
    "            \n",
    "            loss = output[0]\n",
    "            total_loss += loss.sum().detach().item()\n",
    "            \n",
    "            optimizer.zero_grad()\n",
    "            loss.backward()\n",
    "            optimizer.step()\n",
    "            scheduler.step(loss.sum().detach().item())\n",
    "            \n",
    "        train_losses += [total_loss / batches]\n",
    "        \n",
    "        if val_dataset is not None:\n",
    "            model.eval()\n",
    "            with torch.no_grad():\n",
    "                total_loss = 0\n",
    "                batches = 0 \n",
    "                total = 0\n",
    "                for batch_idx, x in enumerate(val_dataset):\n",
    "                    batches += 1\n",
    "                    x = x.to(device)\n",
    "\n",
    "                    output = model(**x, labels=x['input_ids'])\n",
    "                    loss = output[0]\n",
    "                    total_loss += loss.sum().detach().item()\n",
    "\n",
    "                val_losses += [total_loss / batches]\n",
    "                \n",
    "        print(\"[EPOCH]: %i, [TRAIN LOSS]: %.6f\" % (t, train_losses[-1]))\n",
    "        if val_dataset is not None:\n",
    "            print(\"[EPOCH]: %i, [VAL LOSS]: %.6f\" % (t, val_losses[-1]))\n",
    "        \n",
    "        if save_model_at_epoch:\n",
    "\n",
    "\n",
    "            path = './checkpoints/'\n",
    "            if not os.path.exists(path):\n",
    "                os.makedirs(path)\n",
    "            torch.save({\n",
    "                'epoch': epoch,\n",
    "                'model_state_dict': model.state_dict(),\n",
    "                'optimizer_state_dict': optimizer.state_dict(),\n",
    "                'train_loss': train_losses[-1],\n",
    "                'valid_loss': val_losses[-1],\n",
    "                }, os.path.join(path, f\"epoch-{epoch}.pt\"))   \n",
    " #        if save_model_at_end:\n",
    " #            torch.save(\n",
    " #                model.state_dict(),\n",
    " # f\"{output_prefix}-{t}.pt\",\n",
    " #            )\n",
    "    return model, train_losses, val_losses"
   ]
  },
  {
   "cell_type": "markdown",
   "id": "74a38cc9",
   "metadata": {
    "id": "74a38cc9"
   },
   "source": [
    "### Training the model"
   ]
  },
  {
   "cell_type": "code",
   "execution_count": 13,
   "id": "8865007d",
   "metadata": {
    "colab": {
     "base_uri": "https://localhost:8080/"
    },
    "executionInfo": {
     "elapsed": 2465,
     "status": "ok",
     "timestamp": 1639174677579,
     "user": {
      "displayName": "Anya Trivedi",
      "photoUrl": "https://lh3.googleusercontent.com/a-/AOh14GgGcsfUOad-g04foCwxEdRBEzpXflIcbLNL6Nq2Fw=s64",
      "userId": "03273720747699660418"
     },
     "user_tz": 300
    },
    "id": "8865007d",
    "outputId": "741bc2d0-da91-400d-b3d3-562c40973fa2"
   },
   "outputs": [
    {
     "data": {
      "text/plain": [
       "Embedding(50258, 768)"
      ]
     },
     "execution_count": 13,
     "metadata": {},
     "output_type": "execute_result"
    }
   ],
   "source": [
    "model = GPT2LMHeadModel.from_pretrained('distilgpt2')\n",
    "model = model.cuda()\n",
    "model.resize_token_embeddings(len(train_dataset.tokenizer))"
   ]
  },
  {
   "cell_type": "code",
   "execution_count": 14,
   "id": "LvKcBBEGsAae",
   "metadata": {
    "colab": {
     "base_uri": "https://localhost:8080/"
    },
    "executionInfo": {
     "elapsed": 270,
     "status": "ok",
     "timestamp": 1639174677845,
     "user": {
      "displayName": "Anya Trivedi",
      "photoUrl": "https://lh3.googleusercontent.com/a-/AOh14GgGcsfUOad-g04foCwxEdRBEzpXflIcbLNL6Nq2Fw=s64",
      "userId": "03273720747699660418"
     },
     "user_tz": 300
    },
    "id": "LvKcBBEGsAae",
    "outputId": "27e4b522-ae6c-42d6-c106-fe1759961371"
   },
   "outputs": [
    {
     "name": "stdout",
     "output_type": "stream",
     "text": [
      "huggingface/tokenizers: The current process just got forked, after parallelism has already been used. Disabling parallelism to avoid deadlocks...\n",
      "To disable this warning, you can either:\n",
      "\t- Avoid using `tokenizers` before the fork if possible\n",
      "\t- Explicitly set the environment variable TOKENIZERS_PARALLELISM=(true | false)\n",
      "Sat Dec 11 15:50:44 2021       \n",
      "+-----------------------------------------------------------------------------+\n",
      "| NVIDIA-SMI 460.73.01    Driver Version: 460.73.01    CUDA Version: 11.2     |\n",
      "|-------------------------------+----------------------+----------------------+\n",
      "| GPU  Name        Persistence-M| Bus-Id        Disp.A | Volatile Uncorr. ECC |\n",
      "| Fan  Temp  Perf  Pwr:Usage/Cap|         Memory-Usage | GPU-Util  Compute M. |\n",
      "|                               |                      |               MIG M. |\n",
      "|===============================+======================+======================|\n",
      "|   0  Tesla T4            Off  | 00000000:00:04.0 Off |                    0 |\n",
      "| N/A   65C    P0    31W /  70W |  13747MiB / 15109MiB |      0%      Default |\n",
      "|                               |                      |                  N/A |\n",
      "+-------------------------------+----------------------+----------------------+\n",
      "                                                                               \n",
      "+-----------------------------------------------------------------------------+\n",
      "| Processes:                                                                  |\n",
      "|  GPU   GI   CI        PID   Type   Process name                  GPU Memory |\n",
      "|        ID   ID                                                   Usage      |\n",
      "|=============================================================================|\n",
      "|    0   N/A  N/A      2960      C   /opt/conda/bin/python           11379MiB |\n",
      "|    0   N/A  N/A      3376      C   /opt/conda/bin/python            2365MiB |\n",
      "+-----------------------------------------------------------------------------+\n"
     ]
    }
   ],
   "source": [
    "!nvidia-smi"
   ]
  },
  {
   "cell_type": "code",
   "execution_count": null,
   "id": "aApMo35rr_mG",
   "metadata": {
    "colab": {
     "base_uri": "https://localhost:8080/",
     "height": 517,
     "referenced_widgets": [
      "3e3825006cf4444a90e5067fec8cc02e",
      "20b744b39a8f49208899bfdb3a7e08f6",
      "52305e6cdee14453b81109fdf5fb8712",
      "dfbbebbeef18496287c41012a3ba5d9e",
      "c211de2feeff455fa1aef84a6bd7217a",
      "fedfdaa57c4748108e076eb87d1563be",
      "98bdea48cbd940e1bf7c1eeaf44d94fb",
      "01d7c06a07404d318bcd8438a33fbe4e",
      "75d746c096294b0aaa3ebfcf4379d5a4",
      "033ea910d47049ba9d2f65f399f46bb9",
      "b0001e2b57974d41acffa7b35919fd2f",
      "c7dba57a2f914a949fb16237dcc0b8a4",
      "9c563cb825724460b10cc42c15a6e3af",
      "4a991ac8ae9d4d019b86f4874022bc52",
      "2e00b801382746f7b2fa39eeeabb2491",
      "64cc31e2b41f499ea9c85c27a77978ac",
      "642e98540f4b473fb0ddd6f327c56523",
      "96f93350de274782aaecc28f8731c5a8",
      "e92af29c05204ce18afc3c38ecdaa38e",
      "5deb8d42420a4d7dbde3c2e6b993a693",
      "1ee0c5da36ca46b4bfd33368aa27d7e0",
      "80dec626c3cf42d9b8896700333491f7"
     ]
    },
    "executionInfo": {
     "elapsed": 38865,
     "status": "error",
     "timestamp": 1639174717159,
     "user": {
      "displayName": "Anya Trivedi",
      "photoUrl": "https://lh3.googleusercontent.com/a-/AOh14GgGcsfUOad-g04foCwxEdRBEzpXflIcbLNL6Nq2Fw=s64",
      "userId": "03273720747699660418"
     },
     "user_tz": 300
    },
    "id": "aApMo35rr_mG",
    "outputId": "105c64dd-65e5-4519-84b2-af293298683f"
   },
   "outputs": [
    {
     "data": {
      "application/vnd.jupyter.widget-view+json": {
       "model_id": "4a89fb4455a44aa09319610479fb8b24",
       "version_major": 2,
       "version_minor": 0
      },
      "text/plain": [
       "  0%|          | 0/20 [00:00<?, ?it/s]"
      ]
     },
     "metadata": {},
     "output_type": "display_data"
    },
    {
     "data": {
      "application/vnd.jupyter.widget-view+json": {
       "model_id": "cf6fa3b875414f8da1ffca4aa1488ddb",
       "version_major": 2,
       "version_minor": 0
      },
      "text/plain": [
       "  0%|          | 0/2413 [00:00<?, ?it/s]"
      ]
     },
     "metadata": {},
     "output_type": "display_data"
    },
    {
     "name": "stdout",
     "output_type": "stream",
     "text": [
      "[EPOCH]: 0, [TRAIN LOSS]: 3.462656\n",
      "[EPOCH]: 0, [VAL LOSS]: 3.340747\n"
     ]
    },
    {
     "data": {
      "application/vnd.jupyter.widget-view+json": {
       "model_id": "914dbbbfeee042af9ba19bbfb56a6b08",
       "version_major": 2,
       "version_minor": 0
      },
      "text/plain": [
       "  0%|          | 0/2413 [00:00<?, ?it/s]"
      ]
     },
     "metadata": {},
     "output_type": "display_data"
    },
    {
     "name": "stdout",
     "output_type": "stream",
     "text": [
      "[EPOCH]: 1, [TRAIN LOSS]: 3.403092\n",
      "[EPOCH]: 1, [VAL LOSS]: 3.317709\n"
     ]
    },
    {
     "data": {
      "application/vnd.jupyter.widget-view+json": {
       "model_id": "f8d232c9cb2b4800aa5e2284df2be605",
       "version_major": 2,
       "version_minor": 0
      },
      "text/plain": [
       "  0%|          | 0/2413 [00:00<?, ?it/s]"
      ]
     },
     "metadata": {},
     "output_type": "display_data"
    },
    {
     "name": "stdout",
     "output_type": "stream",
     "text": [
      "[EPOCH]: 2, [TRAIN LOSS]: 3.377835\n",
      "[EPOCH]: 2, [VAL LOSS]: 3.294382\n"
     ]
    },
    {
     "data": {
      "application/vnd.jupyter.widget-view+json": {
       "model_id": "8351152a37af439e973dabcd3be58d67",
       "version_major": 2,
       "version_minor": 0
      },
      "text/plain": [
       "  0%|          | 0/2413 [00:00<?, ?it/s]"
      ]
     },
     "metadata": {},
     "output_type": "display_data"
    },
    {
     "name": "stdout",
     "output_type": "stream",
     "text": [
      "[EPOCH]: 3, [TRAIN LOSS]: 3.353113\n",
      "[EPOCH]: 3, [VAL LOSS]: 3.272411\n"
     ]
    },
    {
     "data": {
      "application/vnd.jupyter.widget-view+json": {
       "model_id": "bf1b0a2ba0b34f1eb248c7d829c06a9f",
       "version_major": 2,
       "version_minor": 0
      },
      "text/plain": [
       "  0%|          | 0/2413 [00:00<?, ?it/s]"
      ]
     },
     "metadata": {},
     "output_type": "display_data"
    },
    {
     "name": "stdout",
     "output_type": "stream",
     "text": [
      "[EPOCH]: 4, [TRAIN LOSS]: 3.330984\n",
      "[EPOCH]: 4, [VAL LOSS]: 3.251709\n"
     ]
    },
    {
     "data": {
      "application/vnd.jupyter.widget-view+json": {
       "model_id": "a6ea2fc971db4298a6c6914f979874cd",
       "version_major": 2,
       "version_minor": 0
      },
      "text/plain": [
       "  0%|          | 0/2413 [00:00<?, ?it/s]"
      ]
     },
     "metadata": {},
     "output_type": "display_data"
    },
    {
     "name": "stdout",
     "output_type": "stream",
     "text": [
      "[EPOCH]: 5, [TRAIN LOSS]: 3.308307\n",
      "[EPOCH]: 5, [VAL LOSS]: 3.232215\n"
     ]
    },
    {
     "data": {
      "application/vnd.jupyter.widget-view+json": {
       "model_id": "f97cb2e3ba7643e59fb05a5d0de9cfce",
       "version_major": 2,
       "version_minor": 0
      },
      "text/plain": [
       "  0%|          | 0/2413 [00:00<?, ?it/s]"
      ]
     },
     "metadata": {},
     "output_type": "display_data"
    },
    {
     "name": "stdout",
     "output_type": "stream",
     "text": [
      "[EPOCH]: 6, [TRAIN LOSS]: 3.289156\n",
      "[EPOCH]: 6, [VAL LOSS]: 3.213706\n"
     ]
    },
    {
     "data": {
      "application/vnd.jupyter.widget-view+json": {
       "model_id": "2162e7a4b7da465a92a013e5090b391c",
       "version_major": 2,
       "version_minor": 0
      },
      "text/plain": [
       "  0%|          | 0/2413 [00:00<?, ?it/s]"
      ]
     },
     "metadata": {},
     "output_type": "display_data"
    },
    {
     "name": "stdout",
     "output_type": "stream",
     "text": [
      "[EPOCH]: 7, [TRAIN LOSS]: 3.269221\n",
      "[EPOCH]: 7, [VAL LOSS]: 3.196211\n"
     ]
    },
    {
     "data": {
      "application/vnd.jupyter.widget-view+json": {
       "model_id": "4eb0fafb29724dad802c581b5275b116",
       "version_major": 2,
       "version_minor": 0
      },
      "text/plain": [
       "  0%|          | 0/2413 [00:00<?, ?it/s]"
      ]
     },
     "metadata": {},
     "output_type": "display_data"
    },
    {
     "name": "stdout",
     "output_type": "stream",
     "text": [
      "[EPOCH]: 8, [TRAIN LOSS]: 3.252000\n",
      "[EPOCH]: 8, [VAL LOSS]: 3.179798\n"
     ]
    },
    {
     "data": {
      "application/vnd.jupyter.widget-view+json": {
       "model_id": "581301674eca4bba936ebefd00622a5e",
       "version_major": 2,
       "version_minor": 0
      },
      "text/plain": [
       "  0%|          | 0/2413 [00:00<?, ?it/s]"
      ]
     },
     "metadata": {},
     "output_type": "display_data"
    },
    {
     "name": "stdout",
     "output_type": "stream",
     "text": [
      "[EPOCH]: 9, [TRAIN LOSS]: 3.234160\n",
      "[EPOCH]: 9, [VAL LOSS]: 3.164723\n"
     ]
    },
    {
     "data": {
      "application/vnd.jupyter.widget-view+json": {
       "model_id": "b981f8117ef24e99a2e16a0f405c54aa",
       "version_major": 2,
       "version_minor": 0
      },
      "text/plain": [
       "  0%|          | 0/2413 [00:00<?, ?it/s]"
      ]
     },
     "metadata": {},
     "output_type": "display_data"
    },
    {
     "name": "stdout",
     "output_type": "stream",
     "text": [
      "[EPOCH]: 10, [TRAIN LOSS]: 3.219480\n",
      "[EPOCH]: 10, [VAL LOSS]: 3.150645\n"
     ]
    },
    {
     "data": {
      "application/vnd.jupyter.widget-view+json": {
       "model_id": "32830658279840dc856a32aff3bb5861",
       "version_major": 2,
       "version_minor": 0
      },
      "text/plain": [
       "  0%|          | 0/2413 [00:00<?, ?it/s]"
      ]
     },
     "metadata": {},
     "output_type": "display_data"
    },
    {
     "name": "stdout",
     "output_type": "stream",
     "text": [
      "[EPOCH]: 11, [TRAIN LOSS]: 3.204081\n",
      "[EPOCH]: 11, [VAL LOSS]: 3.137572\n"
     ]
    },
    {
     "data": {
      "application/vnd.jupyter.widget-view+json": {
       "model_id": "979d8d961bae4e2f8562679c5fe8a6b0",
       "version_major": 2,
       "version_minor": 0
      },
      "text/plain": [
       "  0%|          | 0/2413 [00:00<?, ?it/s]"
      ]
     },
     "metadata": {},
     "output_type": "display_data"
    }
   ],
   "source": [
    "# optimizer = optim.AdamW(model.parameters(), lr=5e-5)\n",
    "# scheduler = torch.optim.lr_scheduler.StepLR(optimizer,step_size = 4)\n",
    "# device = torch.device('cuda')\n",
    "# trained_model, train_losses, val_losses = train_loop(model=model, optimizer=optimizer,\n",
    "#                                       scheduler=scheduler, \n",
    "#                                       train_dataset=train_dataset, \n",
    "#                                       device=device, epoch=20, val_dataset=val_dataset, \n",
    "#                                       save_model_at_end=True)\n",
    "\n",
    "optimizer = optim.AdamW(model.parameters(), lr=5e-5)\n",
    "scheduler = torch.optim.lr_scheduler.ReduceLROnPlateau(optimizer)\n",
    "device = torch.device('cuda')\n",
    "trained_model, train_losses, val_losses = train_loop(model=model, optimizer=optimizer,\n",
    "                                      scheduler=scheduler, \n",
    "                                      train_dataset=train_dataset, \n",
    "                                      device=device, epoch=20, val_dataset=val_dataset, save_model_at_epoch = True)"
   ]
  },
  {
   "cell_type": "markdown",
   "id": "a0464902-8182-441c-a41f-957dd5014395",
   "metadata": {},
   "source": [
    "### Saving the Model\n"
   ]
  },
  {
   "cell_type": "code",
   "execution_count": null,
   "id": "df69dc3e-d313-4fcf-b338-c75b3a05780e",
   "metadata": {},
   "outputs": [],
   "source": [
    "torch.save(\n",
    "                trained_model.state_dict(),\n",
    "                \"./20e/lr-bs3-ep20-5e5.pt\",\n",
    "            )\n",
    "pickle.dump(train_losses, open('./20e/train_loss.p', 'wb'))\n",
    "pickle.dump(val_losses, open('./20e/valid_loss.p', 'wb'))\n"
   ]
  },
  {
   "cell_type": "code",
   "execution_count": null,
   "id": "83105b91-f8f5-48c5-9e5f-bfca78451748",
   "metadata": {},
   "outputs": [],
   "source": [
    "model.save_pretrained(\"./models/lr-bs3-ep20-5e5/tokenizer/\")"
   ]
  },
  {
   "cell_type": "code",
   "execution_count": null,
   "id": "f1c22163-f1af-4a04-a5b4-1cded455e32e",
   "metadata": {},
   "outputs": [],
   "source": [
    "import pickle\n",
    "\n",
    "\n",
    "pickle.dump(train_dataset, open('./20e/train_dataset.p', 'wb'))\n",
    "pickle.dump(val_dataset, open('./20e/val_dataset.p', 'wb'))\n",
    "pickle.dump(test_dataset, open('./20e/test_dataset.p', 'wb'))"
   ]
  },
  {
   "cell_type": "code",
   "execution_count": null,
   "id": "40a42dbb-b7c5-4bc8-985c-1c62987a5fe7",
   "metadata": {},
   "outputs": [],
   "source": []
  }
 ],
 "metadata": {
  "accelerator": "GPU",
  "colab": {
   "collapsed_sections": [],
   "name": "Copy of gpt2_finetuning_eval.ipynb",
   "provenance": [
    {
     "file_id": "1wIteWfF14xy4BW-4ZmTfE7LgODe-AlCv",
     "timestamp": 1639175146621
    }
   ]
  },
  "environment": {
   "kernel": "python3",
   "name": "pytorch-gpu.1-9.m82",
   "type": "gcloud",
   "uri": "gcr.io/deeplearning-platform-release/pytorch-gpu.1-9:m82"
  },
  "kernelspec": {
   "display_name": "Python 3",
   "language": "python",
   "name": "python3"
  },
  "language_info": {
   "codemirror_mode": {
    "name": "ipython",
    "version": 3
   },
   "file_extension": ".py",
   "mimetype": "text/x-python",
   "name": "python",
   "nbconvert_exporter": "python",
   "pygments_lexer": "ipython3",
   "version": "3.7.10"
  },
  "widgets": {
   "application/vnd.jupyter.widget-state+json": {
    "01d7c06a07404d318bcd8438a33fbe4e": {
     "model_module": "@jupyter-widgets/controls",
     "model_module_version": "1.5.0",
     "model_name": "ProgressStyleModel",
     "state": {
      "_model_module": "@jupyter-widgets/controls",
      "_model_module_version": "1.5.0",
      "_model_name": "ProgressStyleModel",
      "_view_count": null,
      "_view_module": "@jupyter-widgets/base",
      "_view_module_version": "1.2.0",
      "_view_name": "StyleView",
      "bar_color": null,
      "description_width": ""
     }
    },
    "033ea910d47049ba9d2f65f399f46bb9": {
     "model_module": "@jupyter-widgets/controls",
     "model_module_version": "1.5.0",
     "model_name": "DescriptionStyleModel",
     "state": {
      "_model_module": "@jupyter-widgets/controls",
      "_model_module_version": "1.5.0",
      "_model_name": "DescriptionStyleModel",
      "_view_count": null,
      "_view_module": "@jupyter-widgets/base",
      "_view_module_version": "1.2.0",
      "_view_name": "StyleView",
      "description_width": ""
     }
    },
    "1ee0c5da36ca46b4bfd33368aa27d7e0": {
     "model_module": "@jupyter-widgets/controls",
     "model_module_version": "1.5.0",
     "model_name": "DescriptionStyleModel",
     "state": {
      "_model_module": "@jupyter-widgets/controls",
      "_model_module_version": "1.5.0",
      "_model_name": "DescriptionStyleModel",
      "_view_count": null,
      "_view_module": "@jupyter-widgets/base",
      "_view_module_version": "1.2.0",
      "_view_name": "StyleView",
      "description_width": ""
     }
    },
    "20b744b39a8f49208899bfdb3a7e08f6": {
     "model_module": "@jupyter-widgets/base",
     "model_module_version": "1.2.0",
     "model_name": "LayoutModel",
     "state": {
      "_model_module": "@jupyter-widgets/base",
      "_model_module_version": "1.2.0",
      "_model_name": "LayoutModel",
      "_view_count": null,
      "_view_module": "@jupyter-widgets/base",
      "_view_module_version": "1.2.0",
      "_view_name": "LayoutView",
      "align_content": null,
      "align_items": null,
      "align_self": null,
      "border": null,
      "bottom": null,
      "display": null,
      "flex": null,
      "flex_flow": null,
      "grid_area": null,
      "grid_auto_columns": null,
      "grid_auto_flow": null,
      "grid_auto_rows": null,
      "grid_column": null,
      "grid_gap": null,
      "grid_row": null,
      "grid_template_areas": null,
      "grid_template_columns": null,
      "grid_template_rows": null,
      "height": null,
      "justify_content": null,
      "justify_items": null,
      "left": null,
      "margin": null,
      "max_height": null,
      "max_width": null,
      "min_height": null,
      "min_width": null,
      "object_fit": null,
      "object_position": null,
      "order": null,
      "overflow": null,
      "overflow_x": null,
      "overflow_y": null,
      "padding": null,
      "right": null,
      "top": null,
      "visibility": null,
      "width": null
     }
    },
    "2e00b801382746f7b2fa39eeeabb2491": {
     "model_module": "@jupyter-widgets/controls",
     "model_module_version": "1.5.0",
     "model_name": "FloatProgressModel",
     "state": {
      "_dom_classes": [],
      "_model_module": "@jupyter-widgets/controls",
      "_model_module_version": "1.5.0",
      "_model_name": "FloatProgressModel",
      "_view_count": null,
      "_view_module": "@jupyter-widgets/controls",
      "_view_module_version": "1.5.0",
      "_view_name": "ProgressView",
      "bar_style": "danger",
      "description": "",
      "description_tooltip": null,
      "layout": "IPY_MODEL_5deb8d42420a4d7dbde3c2e6b993a693",
      "max": 2413,
      "min": 0,
      "orientation": "horizontal",
      "style": "IPY_MODEL_e92af29c05204ce18afc3c38ecdaa38e",
      "value": 93
     }
    },
    "3e3825006cf4444a90e5067fec8cc02e": {
     "model_module": "@jupyter-widgets/controls",
     "model_module_version": "1.5.0",
     "model_name": "HBoxModel",
     "state": {
      "_dom_classes": [],
      "_model_module": "@jupyter-widgets/controls",
      "_model_module_version": "1.5.0",
      "_model_name": "HBoxModel",
      "_view_count": null,
      "_view_module": "@jupyter-widgets/controls",
      "_view_module_version": "1.5.0",
      "_view_name": "HBoxView",
      "box_style": "",
      "children": [
       "IPY_MODEL_52305e6cdee14453b81109fdf5fb8712",
       "IPY_MODEL_dfbbebbeef18496287c41012a3ba5d9e",
       "IPY_MODEL_c211de2feeff455fa1aef84a6bd7217a"
      ],
      "layout": "IPY_MODEL_20b744b39a8f49208899bfdb3a7e08f6"
     }
    },
    "4a991ac8ae9d4d019b86f4874022bc52": {
     "model_module": "@jupyter-widgets/controls",
     "model_module_version": "1.5.0",
     "model_name": "HTMLModel",
     "state": {
      "_dom_classes": [],
      "_model_module": "@jupyter-widgets/controls",
      "_model_module_version": "1.5.0",
      "_model_name": "HTMLModel",
      "_view_count": null,
      "_view_module": "@jupyter-widgets/controls",
      "_view_module_version": "1.5.0",
      "_view_name": "HTMLView",
      "description": "",
      "description_tooltip": null,
      "layout": "IPY_MODEL_96f93350de274782aaecc28f8731c5a8",
      "placeholder": "​",
      "style": "IPY_MODEL_642e98540f4b473fb0ddd6f327c56523",
      "value": "  4%"
     }
    },
    "52305e6cdee14453b81109fdf5fb8712": {
     "model_module": "@jupyter-widgets/controls",
     "model_module_version": "1.5.0",
     "model_name": "HTMLModel",
     "state": {
      "_dom_classes": [],
      "_model_module": "@jupyter-widgets/controls",
      "_model_module_version": "1.5.0",
      "_model_name": "HTMLModel",
      "_view_count": null,
      "_view_module": "@jupyter-widgets/controls",
      "_view_module_version": "1.5.0",
      "_view_name": "HTMLView",
      "description": "",
      "description_tooltip": null,
      "layout": "IPY_MODEL_98bdea48cbd940e1bf7c1eeaf44d94fb",
      "placeholder": "​",
      "style": "IPY_MODEL_fedfdaa57c4748108e076eb87d1563be",
      "value": "  0%"
     }
    },
    "5deb8d42420a4d7dbde3c2e6b993a693": {
     "model_module": "@jupyter-widgets/base",
     "model_module_version": "1.2.0",
     "model_name": "LayoutModel",
     "state": {
      "_model_module": "@jupyter-widgets/base",
      "_model_module_version": "1.2.0",
      "_model_name": "LayoutModel",
      "_view_count": null,
      "_view_module": "@jupyter-widgets/base",
      "_view_module_version": "1.2.0",
      "_view_name": "LayoutView",
      "align_content": null,
      "align_items": null,
      "align_self": null,
      "border": null,
      "bottom": null,
      "display": null,
      "flex": null,
      "flex_flow": null,
      "grid_area": null,
      "grid_auto_columns": null,
      "grid_auto_flow": null,
      "grid_auto_rows": null,
      "grid_column": null,
      "grid_gap": null,
      "grid_row": null,
      "grid_template_areas": null,
      "grid_template_columns": null,
      "grid_template_rows": null,
      "height": null,
      "justify_content": null,
      "justify_items": null,
      "left": null,
      "margin": null,
      "max_height": null,
      "max_width": null,
      "min_height": null,
      "min_width": null,
      "object_fit": null,
      "object_position": null,
      "order": null,
      "overflow": null,
      "overflow_x": null,
      "overflow_y": null,
      "padding": null,
      "right": null,
      "top": null,
      "visibility": null,
      "width": null
     }
    },
    "642e98540f4b473fb0ddd6f327c56523": {
     "model_module": "@jupyter-widgets/controls",
     "model_module_version": "1.5.0",
     "model_name": "DescriptionStyleModel",
     "state": {
      "_model_module": "@jupyter-widgets/controls",
      "_model_module_version": "1.5.0",
      "_model_name": "DescriptionStyleModel",
      "_view_count": null,
      "_view_module": "@jupyter-widgets/base",
      "_view_module_version": "1.2.0",
      "_view_name": "StyleView",
      "description_width": ""
     }
    },
    "64cc31e2b41f499ea9c85c27a77978ac": {
     "model_module": "@jupyter-widgets/controls",
     "model_module_version": "1.5.0",
     "model_name": "HTMLModel",
     "state": {
      "_dom_classes": [],
      "_model_module": "@jupyter-widgets/controls",
      "_model_module_version": "1.5.0",
      "_model_name": "HTMLModel",
      "_view_count": null,
      "_view_module": "@jupyter-widgets/controls",
      "_view_module_version": "1.5.0",
      "_view_name": "HTMLView",
      "description": "",
      "description_tooltip": null,
      "layout": "IPY_MODEL_80dec626c3cf42d9b8896700333491f7",
      "placeholder": "​",
      "style": "IPY_MODEL_1ee0c5da36ca46b4bfd33368aa27d7e0",
      "value": " 93/2413 [00:38&lt;18:39,  2.07it/s]"
     }
    },
    "75d746c096294b0aaa3ebfcf4379d5a4": {
     "model_module": "@jupyter-widgets/base",
     "model_module_version": "1.2.0",
     "model_name": "LayoutModel",
     "state": {
      "_model_module": "@jupyter-widgets/base",
      "_model_module_version": "1.2.0",
      "_model_name": "LayoutModel",
      "_view_count": null,
      "_view_module": "@jupyter-widgets/base",
      "_view_module_version": "1.2.0",
      "_view_name": "LayoutView",
      "align_content": null,
      "align_items": null,
      "align_self": null,
      "border": null,
      "bottom": null,
      "display": null,
      "flex": null,
      "flex_flow": null,
      "grid_area": null,
      "grid_auto_columns": null,
      "grid_auto_flow": null,
      "grid_auto_rows": null,
      "grid_column": null,
      "grid_gap": null,
      "grid_row": null,
      "grid_template_areas": null,
      "grid_template_columns": null,
      "grid_template_rows": null,
      "height": null,
      "justify_content": null,
      "justify_items": null,
      "left": null,
      "margin": null,
      "max_height": null,
      "max_width": null,
      "min_height": null,
      "min_width": null,
      "object_fit": null,
      "object_position": null,
      "order": null,
      "overflow": null,
      "overflow_x": null,
      "overflow_y": null,
      "padding": null,
      "right": null,
      "top": null,
      "visibility": null,
      "width": null
     }
    },
    "80dec626c3cf42d9b8896700333491f7": {
     "model_module": "@jupyter-widgets/base",
     "model_module_version": "1.2.0",
     "model_name": "LayoutModel",
     "state": {
      "_model_module": "@jupyter-widgets/base",
      "_model_module_version": "1.2.0",
      "_model_name": "LayoutModel",
      "_view_count": null,
      "_view_module": "@jupyter-widgets/base",
      "_view_module_version": "1.2.0",
      "_view_name": "LayoutView",
      "align_content": null,
      "align_items": null,
      "align_self": null,
      "border": null,
      "bottom": null,
      "display": null,
      "flex": null,
      "flex_flow": null,
      "grid_area": null,
      "grid_auto_columns": null,
      "grid_auto_flow": null,
      "grid_auto_rows": null,
      "grid_column": null,
      "grid_gap": null,
      "grid_row": null,
      "grid_template_areas": null,
      "grid_template_columns": null,
      "grid_template_rows": null,
      "height": null,
      "justify_content": null,
      "justify_items": null,
      "left": null,
      "margin": null,
      "max_height": null,
      "max_width": null,
      "min_height": null,
      "min_width": null,
      "object_fit": null,
      "object_position": null,
      "order": null,
      "overflow": null,
      "overflow_x": null,
      "overflow_y": null,
      "padding": null,
      "right": null,
      "top": null,
      "visibility": null,
      "width": null
     }
    },
    "96f93350de274782aaecc28f8731c5a8": {
     "model_module": "@jupyter-widgets/base",
     "model_module_version": "1.2.0",
     "model_name": "LayoutModel",
     "state": {
      "_model_module": "@jupyter-widgets/base",
      "_model_module_version": "1.2.0",
      "_model_name": "LayoutModel",
      "_view_count": null,
      "_view_module": "@jupyter-widgets/base",
      "_view_module_version": "1.2.0",
      "_view_name": "LayoutView",
      "align_content": null,
      "align_items": null,
      "align_self": null,
      "border": null,
      "bottom": null,
      "display": null,
      "flex": null,
      "flex_flow": null,
      "grid_area": null,
      "grid_auto_columns": null,
      "grid_auto_flow": null,
      "grid_auto_rows": null,
      "grid_column": null,
      "grid_gap": null,
      "grid_row": null,
      "grid_template_areas": null,
      "grid_template_columns": null,
      "grid_template_rows": null,
      "height": null,
      "justify_content": null,
      "justify_items": null,
      "left": null,
      "margin": null,
      "max_height": null,
      "max_width": null,
      "min_height": null,
      "min_width": null,
      "object_fit": null,
      "object_position": null,
      "order": null,
      "overflow": null,
      "overflow_x": null,
      "overflow_y": null,
      "padding": null,
      "right": null,
      "top": null,
      "visibility": null,
      "width": null
     }
    },
    "98bdea48cbd940e1bf7c1eeaf44d94fb": {
     "model_module": "@jupyter-widgets/base",
     "model_module_version": "1.2.0",
     "model_name": "LayoutModel",
     "state": {
      "_model_module": "@jupyter-widgets/base",
      "_model_module_version": "1.2.0",
      "_model_name": "LayoutModel",
      "_view_count": null,
      "_view_module": "@jupyter-widgets/base",
      "_view_module_version": "1.2.0",
      "_view_name": "LayoutView",
      "align_content": null,
      "align_items": null,
      "align_self": null,
      "border": null,
      "bottom": null,
      "display": null,
      "flex": null,
      "flex_flow": null,
      "grid_area": null,
      "grid_auto_columns": null,
      "grid_auto_flow": null,
      "grid_auto_rows": null,
      "grid_column": null,
      "grid_gap": null,
      "grid_row": null,
      "grid_template_areas": null,
      "grid_template_columns": null,
      "grid_template_rows": null,
      "height": null,
      "justify_content": null,
      "justify_items": null,
      "left": null,
      "margin": null,
      "max_height": null,
      "max_width": null,
      "min_height": null,
      "min_width": null,
      "object_fit": null,
      "object_position": null,
      "order": null,
      "overflow": null,
      "overflow_x": null,
      "overflow_y": null,
      "padding": null,
      "right": null,
      "top": null,
      "visibility": null,
      "width": null
     }
    },
    "9c563cb825724460b10cc42c15a6e3af": {
     "model_module": "@jupyter-widgets/base",
     "model_module_version": "1.2.0",
     "model_name": "LayoutModel",
     "state": {
      "_model_module": "@jupyter-widgets/base",
      "_model_module_version": "1.2.0",
      "_model_name": "LayoutModel",
      "_view_count": null,
      "_view_module": "@jupyter-widgets/base",
      "_view_module_version": "1.2.0",
      "_view_name": "LayoutView",
      "align_content": null,
      "align_items": null,
      "align_self": null,
      "border": null,
      "bottom": null,
      "display": null,
      "flex": null,
      "flex_flow": null,
      "grid_area": null,
      "grid_auto_columns": null,
      "grid_auto_flow": null,
      "grid_auto_rows": null,
      "grid_column": null,
      "grid_gap": null,
      "grid_row": null,
      "grid_template_areas": null,
      "grid_template_columns": null,
      "grid_template_rows": null,
      "height": null,
      "justify_content": null,
      "justify_items": null,
      "left": null,
      "margin": null,
      "max_height": null,
      "max_width": null,
      "min_height": null,
      "min_width": null,
      "object_fit": null,
      "object_position": null,
      "order": null,
      "overflow": null,
      "overflow_x": null,
      "overflow_y": null,
      "padding": null,
      "right": null,
      "top": null,
      "visibility": null,
      "width": null
     }
    },
    "b0001e2b57974d41acffa7b35919fd2f": {
     "model_module": "@jupyter-widgets/base",
     "model_module_version": "1.2.0",
     "model_name": "LayoutModel",
     "state": {
      "_model_module": "@jupyter-widgets/base",
      "_model_module_version": "1.2.0",
      "_model_name": "LayoutModel",
      "_view_count": null,
      "_view_module": "@jupyter-widgets/base",
      "_view_module_version": "1.2.0",
      "_view_name": "LayoutView",
      "align_content": null,
      "align_items": null,
      "align_self": null,
      "border": null,
      "bottom": null,
      "display": null,
      "flex": null,
      "flex_flow": null,
      "grid_area": null,
      "grid_auto_columns": null,
      "grid_auto_flow": null,
      "grid_auto_rows": null,
      "grid_column": null,
      "grid_gap": null,
      "grid_row": null,
      "grid_template_areas": null,
      "grid_template_columns": null,
      "grid_template_rows": null,
      "height": null,
      "justify_content": null,
      "justify_items": null,
      "left": null,
      "margin": null,
      "max_height": null,
      "max_width": null,
      "min_height": null,
      "min_width": null,
      "object_fit": null,
      "object_position": null,
      "order": null,
      "overflow": null,
      "overflow_x": null,
      "overflow_y": null,
      "padding": null,
      "right": null,
      "top": null,
      "visibility": null,
      "width": null
     }
    },
    "c211de2feeff455fa1aef84a6bd7217a": {
     "model_module": "@jupyter-widgets/controls",
     "model_module_version": "1.5.0",
     "model_name": "HTMLModel",
     "state": {
      "_dom_classes": [],
      "_model_module": "@jupyter-widgets/controls",
      "_model_module_version": "1.5.0",
      "_model_name": "HTMLModel",
      "_view_count": null,
      "_view_module": "@jupyter-widgets/controls",
      "_view_module_version": "1.5.0",
      "_view_name": "HTMLView",
      "description": "",
      "description_tooltip": null,
      "layout": "IPY_MODEL_b0001e2b57974d41acffa7b35919fd2f",
      "placeholder": "​",
      "style": "IPY_MODEL_033ea910d47049ba9d2f65f399f46bb9",
      "value": " 0/20 [00:38&lt;?, ?it/s]"
     }
    },
    "c7dba57a2f914a949fb16237dcc0b8a4": {
     "model_module": "@jupyter-widgets/controls",
     "model_module_version": "1.5.0",
     "model_name": "HBoxModel",
     "state": {
      "_dom_classes": [],
      "_model_module": "@jupyter-widgets/controls",
      "_model_module_version": "1.5.0",
      "_model_name": "HBoxModel",
      "_view_count": null,
      "_view_module": "@jupyter-widgets/controls",
      "_view_module_version": "1.5.0",
      "_view_name": "HBoxView",
      "box_style": "",
      "children": [
       "IPY_MODEL_4a991ac8ae9d4d019b86f4874022bc52",
       "IPY_MODEL_2e00b801382746f7b2fa39eeeabb2491",
       "IPY_MODEL_64cc31e2b41f499ea9c85c27a77978ac"
      ],
      "layout": "IPY_MODEL_9c563cb825724460b10cc42c15a6e3af"
     }
    },
    "dfbbebbeef18496287c41012a3ba5d9e": {
     "model_module": "@jupyter-widgets/controls",
     "model_module_version": "1.5.0",
     "model_name": "FloatProgressModel",
     "state": {
      "_dom_classes": [],
      "_model_module": "@jupyter-widgets/controls",
      "_model_module_version": "1.5.0",
      "_model_name": "FloatProgressModel",
      "_view_count": null,
      "_view_module": "@jupyter-widgets/controls",
      "_view_module_version": "1.5.0",
      "_view_name": "ProgressView",
      "bar_style": "danger",
      "description": "",
      "description_tooltip": null,
      "layout": "IPY_MODEL_75d746c096294b0aaa3ebfcf4379d5a4",
      "max": 20,
      "min": 0,
      "orientation": "horizontal",
      "style": "IPY_MODEL_01d7c06a07404d318bcd8438a33fbe4e",
      "value": 0
     }
    },
    "e92af29c05204ce18afc3c38ecdaa38e": {
     "model_module": "@jupyter-widgets/controls",
     "model_module_version": "1.5.0",
     "model_name": "ProgressStyleModel",
     "state": {
      "_model_module": "@jupyter-widgets/controls",
      "_model_module_version": "1.5.0",
      "_model_name": "ProgressStyleModel",
      "_view_count": null,
      "_view_module": "@jupyter-widgets/base",
      "_view_module_version": "1.2.0",
      "_view_name": "StyleView",
      "bar_color": null,
      "description_width": ""
     }
    },
    "fedfdaa57c4748108e076eb87d1563be": {
     "model_module": "@jupyter-widgets/controls",
     "model_module_version": "1.5.0",
     "model_name": "DescriptionStyleModel",
     "state": {
      "_model_module": "@jupyter-widgets/controls",
      "_model_module_version": "1.5.0",
      "_model_name": "DescriptionStyleModel",
      "_view_count": null,
      "_view_module": "@jupyter-widgets/base",
      "_view_module_version": "1.2.0",
      "_view_name": "StyleView",
      "description_width": ""
     }
    }
   }
  }
 },
 "nbformat": 4,
 "nbformat_minor": 5
}
