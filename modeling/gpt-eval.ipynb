{
 "cells": [
  {
   "cell_type": "markdown",
   "id": "5c97664b-1638-4b16-be03-dd8180762c3f",
   "metadata": {},
   "source": [
    "# Evaluating the Finetuned Model\n",
    "\n",
    "### Basic Setup"
   ]
  },
  {
   "cell_type": "code",
   "execution_count": 1,
   "id": "7f1eb2bc-3e2b-42fa-89ab-56670f3f496b",
   "metadata": {},
   "outputs": [],
   "source": [
    "import torch \n",
    "import torchvision\n",
    "import torch.nn as nn \n",
    "import torch.nn.init as init\n",
    "from IPython.display import Image \n",
    "from torchvision import transforms\n",
    "import matplotlib.pyplot as plt\n",
    "import random\n",
    "from torch.utils.data import DataLoader\n",
    "from tqdm.auto import tqdm\n",
    "\n",
    "import os\n",
    "\n",
    "import torch.optim as optim\n",
    "import time\n",
    "import torch.nn.functional as F\n",
    "\n",
    "import numpy as np\n",
    "from sklearn.linear_model import LinearRegression\n",
    "from scipy.optimize import curve_fit\n",
    "\n",
    "import pickle\n",
    "\n",
    "device = torch.device(\"cuda\" if torch.cuda.is_available() else \"cpu\")\n",
    "seed = 12345\n",
    "random.seed(seed)\n",
    "torch.manual_seed(seed)\n",
    "\n",
    "%matplotlib inline"
   ]
  },
  {
   "cell_type": "code",
   "execution_count": 2,
   "id": "3b0a39c5-7904-44a7-8fe0-ab4ea0657e49",
   "metadata": {},
   "outputs": [],
   "source": [
    "from transformers import GPT2TokenizerFast, GPT2LMHeadModel\n",
    "import torch\n"
   ]
  },
  {
   "cell_type": "markdown",
   "id": "bf4d80bf-ea9b-4a23-8e7c-8baeedadf242",
   "metadata": {},
   "source": [
    "### Data and Model"
   ]
  },
  {
   "cell_type": "code",
   "execution_count": 3,
   "id": "87711324-e211-4d66-90a4-d06324563b61",
   "metadata": {},
   "outputs": [],
   "source": [
    "train = pickle.load(open('okcupid_train.pkl', 'rb'))\n",
    "val = pickle.load(open('okcupid_val.pkl', 'rb'))\n",
    "test = pickle.load(open('okcupid_test.pkl', 'rb'))"
   ]
  },
  {
   "cell_type": "code",
   "execution_count": 5,
   "id": "c508d26d-3ac2-4b55-9269-efe5c75dbbf1",
   "metadata": {},
   "outputs": [],
   "source": [
    "class GPTDataset(torch.utils.data.Dataset):\n",
    "    def __init__(self, dataset, batch_size):\n",
    "        #tokenizers usually do the tokenization and numericalization in one step, use encode to get word->index and  \n",
    "        # decode to get index->word\n",
    "        self.tokenizer = GPT2TokenizerFast.from_pretrained('distilgpt2')\n",
    "        self.tokenizer.add_special_tokens({'pad_token': '[PAD]'})\n",
    "        self.dataset = dataset\n",
    "        self.batch_size = batch_size\n",
    "        \n",
    "        self.batches = []\n",
    "        \n",
    "        for i in range(int(len(self.dataset) / batch_size)):\n",
    "            batch = self.dataset[i * self.batch_size : (i + 1) * self.batch_size]\n",
    "            self.batches += [self.tokenizer(batch, padding=True, truncation=True, return_tensors=\"pt\")]\n",
    "            \n",
    "    def __getitem__(self, index):\n",
    "        return self.batches[index]\n",
    "\n",
    "    def __len__(self):\n",
    "        return len(self.batches)"
   ]
  },
  {
   "cell_type": "code",
   "execution_count": 6,
   "id": "58c25b81-fef2-4b15-8819-3bf3cde87015",
   "metadata": {},
   "outputs": [],
   "source": [
    "train_dataset = pickle.load(open('train_dataset.p', 'rb'))\n",
    "val_dataset = pickle.load(open('val_dataset.p', 'rb'))\n",
    "test_dataset = pickle.load(open('test_dataset.p', 'rb'))"
   ]
  },
  {
   "cell_type": "code",
   "execution_count": 25,
   "id": "9d145397-6f6a-485b-89c3-81c5f82e2f6c",
   "metadata": {},
   "outputs": [
    {
     "data": {
      "text/plain": [
       "<All keys matched successfully>"
      ]
     },
     "execution_count": 25,
     "metadata": {},
     "output_type": "execute_result"
    }
   ],
   "source": [
    "model = GPT2LMHeadModel.from_pretrained('distilgpt2')\n",
    "#model = model.cuda()\n",
    "model.resize_token_embeddings(len(train_dataset.tokenizer))\n",
    "model.load_state_dict(torch.load('lr-bs3-5e5.pt'))\n"
   ]
  },
  {
   "cell_type": "code",
   "execution_count": 21,
   "id": "976e6d75-4c83-49ba-b822-307133bfcb39",
   "metadata": {},
   "outputs": [
    {
     "data": {
      "image/png": "[encoded data removed]",
      "text/plain": [
       "<Figure size 576x720 with 1 Axes>"
      ]
     },
     "metadata": {
      "needs_background": "light"
     },
     "output_type": "display_data"
    }
   ],
   "source": [
    "import math\n",
    "train_loss = [3.925748, 3.872345,3.851492, 3.826822, 3.805162,3.783345, 3.762812, 3.739974, 3.723015, 3.703537 ]\n",
    "valid_loss = [3.742136,3.722326,  3.703400,3.684544, 3.666903, 3.647822,  3.629009,3.610696, 3.594632, 3.578252 ]\n",
    "epoch =[i for i in range(1,11)]\n",
    "\n",
    "plt.figure(figsize =(8,10))\n",
    "plt.plot( epoch,[math.log(i) for i in train_loss], color='c')\n",
    "plt.plot( epoch,[math.log(i) for i in valid_loss],color='m')\n",
    "plt.legend([\"Training Loss\", \"Validation Loss\"], loc= 'upper right')\n",
    "plt.show()"
   ]
  },
  {
   "cell_type": "code",
   "execution_count": 139,
   "id": "9c45d558-3ab2-4976-9a80-bed49ddb0585",
   "metadata": {},
   "outputs": [],
   "source": [
    "def generate(model, tokenizer, prompt, entry_count=1, entry_length=30, top_p =0.4, temperature = 1.2,):\n",
    "    model.eval()\n",
    "    generated_num = 0\n",
    "    generated_list = []\n",
    "\n",
    "    filter_value = -float(\"Inf\")\n",
    "\n",
    "    with torch.no_grad():\n",
    "\n",
    "        for entry_idx in range(entry_count):\n",
    "\n",
    "            entry_finished = False\n",
    "            generated = torch.tensor(tokenizer.encode(prompt)).unsqueeze(0)\n",
    "\n",
    "            for i in range(entry_length):\n",
    "                outputs = model(generated, labels=generated)\n",
    "                loss, logits = outputs[:2]\n",
    "                logits = logits[:, -1, :] / (temperature if temperature > 0 else 1.0)\n",
    "\n",
    "                sorted_logits, sorted_indices = torch.sort(logits, descending=True)\n",
    "                cumulative_probs = torch.cumsum(F.softmax(sorted_logits, dim=-1), dim=-1)\n",
    "\n",
    "                sorted_indices_to_remove = cumulative_probs > top_p\n",
    "                sorted_indices_to_remove[..., 1:] = sorted_indices_to_remove[\n",
    "                    ..., :-1\n",
    "                ].clone()\n",
    "                sorted_indices_to_remove[..., 0] = 0\n",
    "\n",
    "                indices_to_remove = sorted_indices[sorted_indices_to_remove]\n",
    "                logits[:, indices_to_remove] = filter_value\n",
    "\n",
    "                next_token = torch.multinomial(F.softmax(logits, dim=-1), num_samples=1)\n",
    "                generated = torch.cat((generated, next_token), dim=1)\n",
    "\n",
    "                if next_token in tokenizer.encode(\"[PAD]\"):\n",
    "                    entry_finished = True\n",
    "\n",
    "                if entry_finished:\n",
    "\n",
    "                    generated_num = generated_num + 1\n",
    "\n",
    "                    output_list = list(generated.squeeze().numpy())\n",
    "                    output_text = tokenizer.decode(output_list)\n",
    "                    generated_list.append(output_text.split(\"=> \")[1])\n",
    "                    #generated_list.append(output_text)\n",
    "                    break\n",
    "            \n",
    "            if not entry_finished:\n",
    "                output_list = list(generated.squeeze().numpy())\n",
    "                output_text = f\"{tokenizer.decode(output_list)}\" \n",
    "                generated_list.append(output_text.split(\"=> \")[1])\n",
    "                #generated_list.append(output_text)\n",
    "    return generated_list"
   ]
  },
  {
   "cell_type": "code",
   "execution_count": 151,
   "id": "070926e0-9797-4275-800c-2960cb1ad7b1",
   "metadata": {},
   "outputs": [],
   "source": [
    "# def text_generation(test_data, gptdata, model):\n",
    "#     #testdata has to be a dataframe, use test and not test_dataset\n",
    "#     generated_desc = []\n",
    "#     for i in range(len(test_data)):\n",
    "#         x = generate(model.to('cpu'), gptdata.tokenizer, test_data[i], entry_count=1)\n",
    "#         generated_desc.append(x[0])\n",
    "#     return generated_desc\n",
    "\n",
    "def text_generation(test_data, gptdata, model, startidx, endidx):\n",
    "    #testdata has to be a dataframe, use test and not test_dataset\n",
    "    generated_desc = []\n",
    "    for i in range(startidx, endidx):\n",
    "        x = generate(model.to('cpu'), gptdata.tokenizer, test_data[i], entry_count=1)\n",
    "        generated_desc.append(x[0])\n",
    "    return generated_desc\n"
   ]
  },
  {
   "cell_type": "code",
   "execution_count": 152,
   "id": "db1463ba-daf9-4c4c-b18b-9ff73979bbbb",
   "metadata": {},
   "outputs": [],
   "source": [
    "#Run the functions to generate the descriptions, append them to a list\n",
    "import pandas as pd\n",
    "#generated10 = generated\n",
    "generated20 = text_generation(test, test_dataset, model, 10, 20)\n"
   ]
  },
  {
   "cell_type": "code",
   "execution_count": 153,
   "id": "958b2313-44af-402a-9304-83e169e65ba6",
   "metadata": {},
   "outputs": [],
   "source": [
    "generated30 = text_generation(test, test_dataset, model, 20, 30)\n"
   ]
  },
  {
   "cell_type": "code",
   "execution_count": 154,
   "id": "fe9bb6d0-7ed8-4a8f-a0a4-e37735a048b6",
   "metadata": {},
   "outputs": [],
   "source": [
    "\n",
    "generated40 = text_generation(test, test_dataset, model, 30, 40)\n"
   ]
  },
  {
   "cell_type": "code",
   "execution_count": 155,
   "id": "32a40d07-a763-4942-a59a-3c298750518a",
   "metadata": {},
   "outputs": [],
   "source": [
    "\n",
    "generated50 = text_generation(test, test_dataset, model, 40, 50)"
   ]
  },
  {
   "cell_type": "code",
   "execution_count": 158,
   "id": "16befdaa-50ca-42c0-9740-aa38c8c7cd08",
   "metadata": {},
   "outputs": [],
   "source": [
    "generated60 = text_generation(test, test_dataset, model,  50, 60)\n",
    "generated70 = text_generation(test, test_dataset, model,   60, 70)\n",
    "generated80 = text_generation(test, test_dataset, model,   70, 80)\n",
    "generated90 = text_generation(test, test_dataset, model,   80, 90)\n",
    "generated100 = text_generation(test, test_dataset, model,   90,100)"
   ]
  },
  {
   "cell_type": "code",
   "execution_count": 134,
   "id": "8771e8ae-0b26-4700-83e3-ee7aa3895a19",
   "metadata": {},
   "outputs": [],
   "source": [
    "#generate reference list\n",
    "ref = []\n",
    "for i in test:\n",
    "    i = i.split(\"=> \")[1]\n",
    "    ref.append(i)\n"
   ]
  },
  {
   "cell_type": "markdown",
   "id": "183017f9-bad4-489a-b8fa-6df75d666a5d",
   "metadata": {},
   "source": [
    "### ROUGE"
   ]
  },
  {
   "cell_type": "code",
   "execution_count": 62,
   "id": "0ac7f4fc-80cb-437f-a18c-a1a263620f4b",
   "metadata": {},
   "outputs": [
    {
     "name": "stdout",
     "output_type": "stream",
     "text": [
      "huggingface/tokenizers: The current process just got forked, after parallelism has already been used. Disabling parallelism to avoid deadlocks...\n",
      "To disable this warning, you can either:\n",
      "\t- Avoid using `tokenizers` before the fork if possible\n",
      "\t- Explicitly set the environment variable TOKENIZERS_PARALLELISM=(true | false)\n",
      "Collecting rouge\n",
      "  Downloading rouge-1.0.1-py3-none-any.whl (13 kB)\n",
      "Requirement already satisfied: six in /opt/conda/lib/python3.7/site-packages (from rouge) (1.16.0)\n",
      "Installing collected packages: rouge\n",
      "Successfully installed rouge-1.0.1\n"
     ]
    }
   ],
   "source": [
    "#https://pypi.org/project/rouge/\n",
    "!pip install rouge"
   ]
  },
  {
   "cell_type": "code",
   "execution_count": 164,
   "id": "84715c06-c4ab-4d7c-a4be-9af53264a915",
   "metadata": {},
   "outputs": [
    {
     "data": {
      "text/plain": [
       "100"
      ]
     },
     "execution_count": 164,
     "metadata": {},
     "output_type": "execute_result"
    }
   ],
   "source": [
    "generated_total_50 = generated10+ generated20 + generated30 + generated40 + generated50\n",
    "generated_total_100 = generated_total_50 + generated60+ generated70 + generated80 + generated90 + generated100\n",
    "len(generated_total_100)"
   ]
  },
  {
   "cell_type": "code",
   "execution_count": 157,
   "id": "88302097-5570-4e43-be6a-377e75211d06",
   "metadata": {},
   "outputs": [
    {
     "name": "stdout",
     "output_type": "stream",
     "text": [
      "ROUGE on 50 test set items\n"
     ]
    },
    {
     "data": {
      "text/plain": [
       "{'rouge-1': {'r': 0.9835673401792071,\n",
       "  'p': 0.8206438237678235,\n",
       "  'f': 0.8854573893096525},\n",
       " 'rouge-2': {'r': 0.9808489445281038,\n",
       "  'p': 0.7861728079781679,\n",
       "  'f': 0.8615785724631373},\n",
       " 'rouge-l': {'r': 0.9835673401792071,\n",
       "  'p': 0.8206438237678235,\n",
       "  'f': 0.8854573893096525}}"
      ]
     },
     "execution_count": 157,
     "metadata": {},
     "output_type": "execute_result"
    }
   ],
   "source": [
    "from rouge import Rouge\n",
    "rouge = Rouge()\n",
    "scores = rouge.get_scores(generated_total_50, ref[:50], avg=True)\n",
    "print(\"ROUGE on 50 test set items\")\n",
    "scores"
   ]
  },
  {
   "cell_type": "code",
   "execution_count": 165,
   "id": "23fee897-ec6b-446f-98d9-4e061bce394a",
   "metadata": {},
   "outputs": [
    {
     "name": "stdout",
     "output_type": "stream",
     "text": [
      "ROUGE on 100 test set items\n"
     ]
    },
    {
     "data": {
      "text/plain": [
       "{'rouge-1': {'r': 0.9849490223335693,\n",
       "  'p': 0.8278840197441778,\n",
       "  'f': 0.8897828519247429},\n",
       " 'rouge-2': {'r': 0.981706066200595,\n",
       "  'p': 0.7941089657137553,\n",
       "  'f': 0.8664325899073703},\n",
       " 'rouge-l': {'r': 0.9849490223335693,\n",
       "  'p': 0.8278840197441778,\n",
       "  'f': 0.8897828519247429}}"
      ]
     },
     "execution_count": 165,
     "metadata": {},
     "output_type": "execute_result"
    }
   ],
   "source": [
    "scores = rouge.get_scores(generated_total_100, ref[:100], avg=True)\n",
    "print(\"ROUGE on 100 test set items\")\n",
    "scores"
   ]
  },
  {
   "cell_type": "code",
   "execution_count": null,
   "id": "fc6687a4-16cf-40f1-aae8-9c39fc1cbbc5",
   "metadata": {},
   "outputs": [],
   "source": []
  }
 ],
 "metadata": {
  "environment": {
   "kernel": "python3",
   "name": "pytorch-gpu.1-9.m82",
   "type": "gcloud",
   "uri": "gcr.io/deeplearning-platform-release/pytorch-gpu.1-9:m82"
  },
  "kernelspec": {
   "display_name": "Python 3",
   "language": "python",
   "name": "python3"
  },
  "language_info": {
   "codemirror_mode": {
    "name": "ipython",
    "version": 3
   },
   "file_extension": ".py",
   "mimetype": "text/x-python",
   "name": "python",
   "nbconvert_exporter": "python",
   "pygments_lexer": "ipython3",
   "version": "3.7.10"
  }
 },
 "nbformat": 4,
 "nbformat_minor": 5
}
